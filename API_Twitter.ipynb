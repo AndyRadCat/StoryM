{
 "cells": [
  {
   "cell_type": "code",
   "execution_count": 2,
   "metadata": {},
   "outputs": [],
   "source": [
    "import tweepy  \n",
    "import time\n",
    "import json\n",
    "import requests as req\n",
    "from bs4 import BeautifulSoup\n",
    "from pandas.io.json import json_normalize\n",
    "import getpass\n"
   ]
  },
  {
   "cell_type": "code",
   "execution_count": 3,
   "metadata": {},
   "outputs": [
    {
     "name": "stdout",
     "output_type": "stream",
     "text": [
      "········\n"
     ]
    }
   ],
   "source": [
    "access_token = getpass.getpass()"
   ]
  },
  {
   "cell_type": "code",
   "execution_count": 4,
   "metadata": {},
   "outputs": [
    {
     "name": "stdout",
     "output_type": "stream",
     "text": [
      "········\n"
     ]
    }
   ],
   "source": [
    "access_secret = getpass.getpass()"
   ]
  },
  {
   "cell_type": "code",
   "execution_count": 5,
   "metadata": {},
   "outputs": [
    {
     "name": "stdout",
     "output_type": "stream",
     "text": [
      "········\n"
     ]
    }
   ],
   "source": [
    "bearer = getpass.getpass()"
   ]
  },
  {
   "cell_type": "code",
   "execution_count": 6,
   "metadata": {},
   "outputs": [
    {
     "name": "stdout",
     "output_type": "stream",
     "text": [
      "········\n"
     ]
    }
   ],
   "source": [
    "csrf_token = getpass.getpass()"
   ]
  },
  {
   "cell_type": "code",
   "execution_count": 24,
   "metadata": {},
   "outputs": [
    {
     "ename": "SyntaxError",
     "evalue": "EOL while scanning string literal (<ipython-input-24-4382a26de841>, line 13)",
     "output_type": "error",
     "traceback": [
      "\u001b[1;36m  File \u001b[1;32m\"<ipython-input-24-4382a26de841>\"\u001b[1;36m, line \u001b[1;32m13\u001b[0m\n\u001b[1;33m    url = \"https://api.twitter.com/graphql/SUtT7ufpqitlSnWoccH2LA/Followers?variables=%7B%22userId%22%3A%221234831172758274050%22%2C%22count%22%3A{count}%2C%22withHighlightedLabel%22%3Afalse%2C%22withTweetQuoteCount%22%3Afalse%2C%22includePromotedContent%22%3Afalse%2C%22withTweetResult%22%3Afalse%2C%22withUserResult%22%3Afalse%7D\\\"\u001b[0m\n\u001b[1;37m                                                                                                                                                                                                                                                                                                                                             ^\u001b[0m\n\u001b[1;31mSyntaxError\u001b[0m\u001b[1;31m:\u001b[0m EOL while scanning string literal\n"
     ]
    }
   ],
   "source": [
    "header = {\"Host\":\"api.twitter.com\",\n",
    "         \"Accept\": \"*/*\",\n",
    "         \"Accept-Language\": \"en-US,en;q=0.5\",\n",
    "         \"x-twitter-auth-type\": \"OAuth2Session\",\n",
    "          \"authorization\": bearer,\n",
    "          \"x-guest-token\" : access_token,\n",
    "          \"x-csrf-token\": csrf_token,\n",
    "          \"Origin\": \"http://twitter.com\",\n",
    "          \"DNT\": \"1\",\n",
    "          \"Connection\" : \"keep-alive\",\n",
    "          \"Referer\": \"https://twitter.com/\"}\n",
    "\n",
    "url = \"https://api.twitter.com/graphql/SUtT7ufpqitlSnWoccH2LA/Followers?variables=%7B%22userId%22%3A%221234831172758274050%22%2C%22count%22%3A{count}%2C%22withHighlightedLabel%22%3Afalse%2C%22withTweetQuoteCount%22%3Afalse%2C%22includePromotedContent%22%3Afalse%2C%22withTweetResult%22%3Afalse%2C%22withUserResult%22%3Afalse%7D\\\"\n",
    "            "
   ]
  },
  {
   "cell_type": "code",
   "execution_count": 20,
   "metadata": {},
   "outputs": [],
   "source": [
    "res = req.get(url, headers=header)"
   ]
  },
  {
   "cell_type": "code",
   "execution_count": 21,
   "metadata": {},
   "outputs": [],
   "source": [
    "res = res.json()"
   ]
  },
  {
   "cell_type": "code",
   "execution_count": 22,
   "metadata": {},
   "outputs": [
    {
     "data": {
      "text/plain": [
       "{'errors': [{'code': 215, 'message': 'Bad Authentication data.'}]}"
      ]
     },
     "execution_count": 22,
     "metadata": {},
     "output_type": "execute_result"
    }
   ],
   "source": [
    "res"
   ]
  },
  {
   "cell_type": "code",
   "execution_count": 32,
   "metadata": {},
   "outputs": [],
   "source": [
    "header = {\"Host\": \"api.twitter.com\",\n",
    "          \"Accept\": \"*/*\",\n",
    "          \"Accept-Language\": \"en-US,en;q=0.5\",\n",
    "          \"content-type\" : \"application/json\",\n",
    "          \"x-twitter-auth-type\" : \"OAuth2Session\",\n",
    "          \"x-twitter-client-language\" : \"en\",\n",
    "          \"x-twitter-active-user\" : \"yes\",\n",
    "          \"x-csrf-token\" : csrf_token,\n",
    "          \"Origin\" : \"http://twitter.com\",\n",
    "          \"DNT\" : \"1\",\n",
    "          \"authorization\" : bearer,\n",
    "          \"Referer\" : \"https://twitter.com/nichtohneeuch/followers\"\n",
    "          #\"Cookie\":\"personalization_id='v1_SujIPGam8iXzFq9dbvr6+w=='; guest_id=v1%3A159661053828821164; gt=1290904277678948353; ct0=a50055ad6b847ad964489de1323cebcd; _ga=GA1.2.912012613.1596610546; _gid=GA1.2.1885701833.1596610546; _twitter_sess=BAh7CiIKZmxhc2hJQzonQWN0aW9uQ29udHJvbGxlcjo6Rmxhc2g6OkZsYXNo%250ASGFzaHsABjoKQHVzZWR7ADoPY3JlYXRlZF9hdGwrCFyRZ71zAToMY3NyZl9p%250AZCIlZTRiNTc4MzcxMmVmZGRiZDEyY2M4ZTZjZjI2M2ExZDY6B2lkIiU0Y2Iw%250AZGM1NGU0MDI5ZGFkMTdjZTM1MTQ1ZTgxYzE3MToJdXNlcmwrB5AZeko%253D--2487120dbf4405463584a0baffbcc096e371b53d; dnt=1; ads_prefs='HBISAAA='; kdt=c7tYe5FBcoxqYmEAkqhc7kgENXtvJebyP1ZK5EXb; remember_checked_on=1; twid=u%3D1249515920; auth_token=8467c9a238bc3d8d7d462e32fbcdaec4dcb548e1; eu_cn=1\"personalization_id=\"v1_SujIPGam8iXzFq9dbvr6+w==\"; guest_id=v1%3A159661053828821164; gt=1290904277678948353; ct0=a50055ad6b847ad964489de1323cebcd; _ga=GA1.2.912012613.1596610546; _gid=GA1.2.1885701833.1596610546; _twitter_sess=BAh7CiIKZmxhc2hJQzonQWN0aW9uQ29udHJvbGxlcjo6Rmxhc2g6OkZsYXNo%250ASGFzaHsABjoKQHVzZWR7ADoPY3JlYXRlZF9hdGwrCFyRZ71zAToMY3NyZl9p%250AZCIlZTRiNTc4MzcxMmVmZGRiZDEyY2M4ZTZjZjI2M2ExZDY6B2lkIiU0Y2Iw%250AZGM1NGU0MDI5ZGFkMTdjZTM1MTQ1ZTgxYzE3MToJdXNlcmwrB5AZeko%253D--2487120dbf4405463584a0baffbcc096e371b53d; dnt=1; ads_prefs='HBISAAA='; kdt=c7tYe5FBcoxqYmEAkqhc7kgENXtvJebyP1ZK5EXb; remember_checked_on=1; twid=u%3D1249515920; auth_token=8467c9a238bc3d8d7d462e32fbcdaec4dcb548e1; eu_cn=1\"\n",
    "         }\n",
    "          \n",
    "url = "
   ]
  },
  {
   "cell_type": "markdown",
   "metadata": {},
   "source": [
    "\"import requests as req\\n\",\n",
    "\"import getpass\\n\",\n",
    "\"from bs4 import BeautifulSoup\"\n",
    " \n",
    " \"# Importante TIENES QUE PONER EL COUNT POR EL NUMERO DE FOLLOWERS QUE QUIERES OBTENER,\n",
    "EL URL ES UNA f string Y DONDE DICE COUNT 20 TIENES QUE PONERLO ENTRE {} Y PONER LA VARIABLE count {count}\n",
    "\n",
    "count = 513\n",
    " \n",
    "#aqui tienes que poner los token que te da el header cuando corras el programa\",\n",
    "token1 = getpass.getpass()\\n\",\n",
    "token2 = getpass.getpass()\\n\",\n",
    "auth = getpass.getpass()\\n\",\n",
    "\n",
    "header = {\"Host\": \"api.twitter.com\",\n",
    "    #\"User-Agent: Mozilla/5.0 (Windows NT 10.0; Win64; x64; rv:79.0) Gecko/20100101 Firefox/79.0\\n\",\n",
    "    \"\\\"Accept\\\": \\\"*/*\\\",\\n\",\n",
    "    \"\\\"Accept-Language\\\": \\\"de-DE,en-US;q=0.7,es-MX;q=0.3\\\",\\n\",\n",
    "    \"#Accept-Encoding: gzip, deflate, br\\n\",\n",
    "    \"\\\"content-type\\\": \\\"application/json\\\",\\n\",\n",
    "    \"\\\"x-twitter-auth-type\\\": \\\"OAuth2Session\\\",\\n\",\n",
    "    \"\\\"x-twitter-client-language\\\": \\\"en\\\",\\n\",\n",
    "    \"\\\"x-twitter-active-user\\\": \\\"yes\\\",\\n\",\n",
    "    \"\\\"x-csrf-token\\\": token1,\\n\",\n",
    "    \"\\\"Origin\\\": \\\"https://twitter.com\\\",\\n\",\n",
    "    \"\\\"DNT\\\": \\\"1\\\",\\n\",\n",
    "    \"\\\"authorization\\\": auth,\\n\",\n",
    "    \"\\\"Referer\\\": \\\"https://twitter.com/nichtohneeuch/followers\\\",\\n\",\n",
    "    \"#Connection: keep-alive\\n\",\n",
    "    \"\\\"Cookie\\\": f\\\"\\\"\\\"personalization_id=\\\"v1_0rx1SrUv6V+kadKHVP+5vA==\\\"; guest_id=v1%3A159112640392445547; dnt=1; ads_prefs=\\\"HBISAAA=\\\"; kdt=rVWlE3WKF1VdOdyDULFpKtnWaoawjDk4oNuwzYwV; remember_checked_on=1; twid=u%3D1278754256816943109; auth_token={token2}; eu_cn=1; ct0=d74d03a81ab9f918f2cbf757b7af9045\\\"\\\"\\\",\\n\",\n",
    "    \"\\\"TE\\\": \\\"Trailers\\\"\\n\",\n",
    "    \"}\\n\",\n",
    "    \"\\n\",\n",
    "    \"url = f\\\"https://api.twitter.com/graphql/SUtT7ufpqitlSnWoccH2LA/Followers?variables=%7B%22userId%22%3A%221234831172758274050%22%2C%22count%22%3A{count}%2C%22withHighlightedLabel%22%3Afalse%2C%22withTweetQuoteCount%22%3Afalse%2C%22includePromotedContent%22%3Afalse%2C%22withTweetResult%22%3Afalse%2C%22withUserResult%22%3Afalse%7D\\\"\"\n",
    "   ]\n",
    "  },\n",
    "  {\n",
    "   \"cell_type\": \"code\",\n",
    "   \"execution_count\": 95,\n",
    "   \"metadata\": {},\n",
    "   \"outputs\": [],\n",
    "   \"source\": [\n",
    "    \"res = req.get(url, headers=header)\\n\",\n",
    "    \"res = res.json()\"\n",
    "   ]\n",
    "  },\n",
    "  {\n",
    "   \"cell_type\": \"code\",\n",
    "   \"execution_count\": 96,\n",
    "   \"metadata\": {},\n",
    "   \"outputs\": [],\n",
    "   \"source\": [\n",
    "    \"# cada x es un usuario y su info completa tenemos que ahora hacer un loop para agarrar el contenido\\n\",\n",
    "    \"entries = [x for x in res[\\\"data\\\"][\\\"user\\\"][\\\"followers_timeline\\\"][\\\"timeline\\\"][\\\"instructions\\\"][2][\\\"entries\\\"]]\"\n",
    "   ]\n",
    "  },\n",
    "  {\n",
    "   \"cell_type\": \"code\",\n",
    "   \"execution_count\": 97,\n",
    "   \"metadata\": {\n",
    "    \"tags\": []\n",
    "   },\n",
    "   \"outputs\": [],\n",
    "   \"source\": [\n",
    "    \"# append el id y el usuario a la lista de followers\\n\",\n",
    "    \"followers_list = []\\n\",\n",
    "    \"for x in entries:\\n\",\n",
    "    \"    try:\\n\",\n",
    "    \"        followers_list.append({\\n\",\n",
    "    \"            \\\"name\\\": x[\\\"content\\\"][\\\"itemContent\\\"][\\\"user\\\"][\\\"legacy\\\"][\\\"screen_name\\\"],\\n\",\n",
    "    \"            \\\"id\\\": x[\\\"content\\\"][\\\"itemContent\\\"][\\\"user\\\"][\\\"id\\\"],\\n\",\n",
    "    \"        })\\n\",\n",
    "    \"    except:\\n\",\n",
    "    \"         continue\"\n",
    "   ]\n",
    "  },\n",
    "  {\n",
    "   \"cell_type\": \"code\",\n",
    "   \"execution_count\": 98,\n",
    "   \"metadata\": {},\n",
    "   \"outputs\": [\n",
    "    {\n",
    "     \"output_type\": \"execute_result\",\n",
    "     \"data\": {\n",
    "      \"text/plain\": \"[{'name': 'NetteNostlinger', 'id': 'VXNlcjo0Njg1ODMxODU='},\\n {'name': 'juliuscheidt', 'id': 'VXNlcjoxMTk0MTgyOTY='},\\n {'name': 'franciscoasoza', 'id': 'VXNlcjo4NzI4Mzc2NA=='},\\n {'name': 'reza32921581', 'id': 'VXNlcjoxMjgyMDM5NjUzNTM3OTEwNzg5'},\\n {'name': 'immobilie_klose', 'id': 'VXNlcjo5MTE1NzY4NjE4Mjk5NzYwNjU='},\\n {'name': 'PChi43323430', 'id': 'VXNlcjoxMDkxMzY0NjY2MzEwMzAzNzQ1'},\\n {'name': 'Berlin_CT', 'id': 'VXNlcjoyNzc5Njg5MzE3'},\\n {'name': 'FlorianWidmann', 'id': 'VXNlcjo0NTE4ODYzOQ=='},\\n {'name': 'teufelsmuehle', 'id': 'VXNlcjozMDAxMTM1NjQ3'},\\n {'name': '128_0_0_1', 'id': 'VXNlcjo1MDk5Mjg1OA=='},\\n {'name': '49_9240477', 'id': 'VXNlcjo3MzAzMDkxMTU4NjQ2MjEwNjA='},\\n {'name': 'NuthmannRon', 'id': 'VXNlcjozNzAzNDMyNDU3'},\\n {'name': 'TabeaTanz', 'id': 'VXNlcjo3NDAwOTcxNTI0NzE0MjUwMjQ='},\\n {'name': 'neli_wagner', 'id': 'VXNlcjoxMTIzNTI3NDc1MzIwMDM3Mzc2'},\\n {'name': 'flouwy1964', 'id': 'VXNlcjo5MzQ4NDczNzMyMzg1MjE4NTY='},\\n {'name': 'RadikalKlima', 'id': 'VXNlcjoxMjIwMjk5OTYxNjU0NDgwODk2'},\\n {'name': 'ercnsahan', 'id': 'VXNlcjo3NzQ2MjMxNjU0MTQ4MzAwODA='},\\n {'name': 'Guennibln', 'id': 'VXNlcjo3NTY4NTk4OTcxNTM4MDYzMzc='},\\n {'name': 'talha_6503', 'id': 'VXNlcjo5ODAxMzAwOTQ0MzI4MzM1MzY='},\\n {'name': 'PeniculusGrafik', 'id': 'VXNlcjoxODYwNTMwODM0'},\\n {'name': 'Karsten_Beko', 'id': 'VXNlcjo0MzM1OTUwNTg='},\\n {'name': 'JeanMDumler', 'id': 'VXNlcjoyMTg2NzQ3NDM3'},\\n {'name': 'Mareikewithboys', 'id': 'VXNlcjo4MjkwMzYzNzA0Mjk2NzM0NzQ='},\\n {'name': 'dr_john_aus_b', 'id': 'VXNlcjozMDYzNTU4ODMx'},\\n {'name': 'Ibrahim17053368', 'id': 'VXNlcjo3ODM0NzY3MTkyOTQ1MDkwNTY='},\\n {'name': 'langnese', 'id': 'VXNlcjoxNDY4ODczMg=='},\\n {'name': 'VanderpumpT', 'id': 'VXNlcjoxMTkxODgxMTA2NTAyNjI3MzI4'},\\n {'name': 'chiaravet', 'id': 'VXNlcjo1NTgwNzcyMQ=='},\\n {'name': 'kaiwegrich1', 'id': 'VXNlcjo0MDExNTY5MDAz'},\\n {'name': 'JGembitzki', 'id': 'VXNlcjoxMTcwNDU3NTI3MTAxOTIzMzI5'},\\n {'name': 'Twietopha', 'id': 'VXNlcjoyMjI3MzQ5NA=='},\\n {'name': 'larezme', 'id': 'VXNlcjoxNDQ0NjExMTU4'},\\n {'name': 'sofieluise', 'id': 'VXNlcjo4NjA5ODI1NQ=='},\\n {'name': 'georgi1222', 'id': 'VXNlcjoyMTk5NTkxODY='},\\n {'name': 'yumigarlictoast', 'id': 'VXNlcjo5OTAxNzE4NDA4NDc5ODI1OTM='},\\n {'name': 'GeorgeSolend1', 'id': 'VXNlcjo3NDc0NzA3MTM='},\\n {'name': 'sehr_eigenartig', 'id': 'VXNlcjo2MTI3NDk5NDA='},\\n {'name': 'DonsenJohn', 'id': 'VXNlcjo5ODA3OTMyOTkyMTk5NTk4MTM='},\\n {'name': '0127Mako', 'id': 'VXNlcjo1Mzk2NTc1NTU='},\\n {'name': 'LefflerBjorn', 'id': 'VXNlcjoxMTkwMzA4MDYxMjc5MzM4NDk2'},\\n {'name': 'fmstroemer', 'id': 'VXNlcjoyMzE0NDMzNw=='},\\n {'name': 'Gabi39926721', 'id': 'VXNlcjoxMjg1ODc4MjA5MTcxNjYwODAw'},\\n {'name': 'baronessenfess', 'id': 'VXNlcjo5MzYyMDc3NDk5NTE3NzA2MjU='},\\n {'name': 'dafphil', 'id': 'VXNlcjoxNDA5NDU1NQ=='},\\n {'name': 'jannespeters', 'id': 'VXNlcjo2MjI2MjYyNw=='},\\n {'name': 'schustergeselle', 'id': 'VXNlcjoyNDY1MzAwMjY='},\\n {'name': 'ErikWiegard', 'id': 'VXNlcjo5MjQxNzk4NDc3MjI3ODI3MjA='},\\n {'name': 'janvanvliet', 'id': 'VXNlcjo0MzE0NTUyOA=='},\\n {'name': 'saskialetz', 'id': 'VXNlcjoyODEyNTg4MTEw'},\\n {'name': 'CharlieDupre', 'id': 'VXNlcjozNzE3MDg0OTc='},\\n {'name': 'AnniMe01', 'id': 'VXNlcjoxMjE5MDE1NTA5NjkxMzIyMzY4'},\\n {'name': 'WKunft', 'id': 'VXNlcjoxMjY4MjQ2Nzc2ODAyMzUzMTYw'},\\n {'name': 'boulevard_blum', 'id': 'VXNlcjoxODgzMTMwMzU='},\\n {'name': 'rmer_mom', 'id': 'VXNlcjo1NjQ0MTIyNTY='},\\n {'name': 'Konii_de', 'id': 'VXNlcjoxOTU4MjEyNQ=='},\\n {'name': 'vampyropod', 'id': 'VXNlcjoxMDQ3OTQxNzIzOTU0MDc3Njk2'},\\n {'name': 'christinre1', 'id': 'VXNlcjoxMjE5MzUwNzE4MjUzMDc2NDgw'},\\n {'name': 'n00rms', 'id': 'VXNlcjoxMjczNzc1ODU2'},\\n {'name': 'SilviaFollmann', 'id': 'VXNlcjoxMjgyNDM1MjY='},\\n {'name': 'TiPEmedia', 'id': 'VXNlcjo1NzQ1ODM5Mw=='},\\n {'name': 'Insel63', 'id': 'VXNlcjo0MTYzNTY5MzU='},\\n {'name': '__Jannis', 'id': 'VXNlcjoxMTcxNzAxODYxOTIzMTE5MTA0'},\\n {'name': 'MartBecker', 'id': 'VXNlcjozOTQ3MzA3Njg='},\\n {'name': 'BeeseTill', 'id': 'VXNlcjo3NTQwODg1Nzg3NTQ0NDEyMTY='},\\n {'name': 'huenenmeister', 'id': 'VXNlcjo0MDM0MDg0Mw=='},\\n {'name': 'sabse1373', 'id': 'VXNlcjozMDI3ODc3NjUx'},\\n {'name': 'lukasreinhard10', 'id': 'VXNlcjoxMDcyNDg5ODY0MjgzNzIxNzI5'},\\n {'name': 'BenjaminMoser_', 'id': 'VXNlcjoyNzI3NTM1MzE3'},\\n {'name': 'ta11ion', 'id': 'VXNlcjoxMjI4NTg3NjE4MzkwMjA0NDE2'},\\n {'name': 'vondrueben_', 'id': 'VXNlcjozNDE4MTk3Njcx'},\\n {'name': 'knutpeters', 'id': 'VXNlcjo0Njc0Mzc3Mw=='},\\n {'name': 'JL19941', 'id': 'VXNlcjoxMDE5OTAwOTIzNjc2NjkyNDgx'},\\n {'name': 'JannisLeon', 'id': 'VXNlcjoxMjczNDU0OTEwNTA4NTgwODY2'},\\n {'name': 'belanet', 'id': 'VXNlcjo4MDc4OTYzMg=='},\\n {'name': 'IHK_TeamPolitik', 'id': 'VXNlcjoxMjczNTAxMjg5NTgyODU4MjQw'},\\n {'name': 'diegrossen5com', 'id': 'VXNlcjo4NTExNzgxODI0ODkyNzY0MTY='},\\n {'name': 'Jochen51090174', 'id': 'VXNlcjo5ODMwMTA3MjMyMTg1MTM5MjE='},\\n {'name': 'Hauptstdterin1', 'id': 'VXNlcjoxMjQ0NjkxMzY4NDE0NTAyOTEz'},\\n {'name': 'sinnemanie', 'id': 'VXNlcjo0MTc0NzcxMzQ='},\\n {'name': 'fryday', 'id': 'VXNlcjo4MjQyMDYy'},\\n {'name': 'rlnr97', 'id': 'VXNlcjo1ODc0MzczMzk='},\\n {'name': 'BuchtFuerAlle', 'id': 'VXNlcjoxMTMxOTc1MTA1OTI2NTc4MTc2'},\\n {'name': 'kimbube', 'id': 'VXNlcjoxNTE5NjQ0Ng=='},\\n {'name': 'denispeisker', 'id': 'VXNlcjo0MTA3MTQ0ODE='},\\n {'name': 'quereinsteiger', 'id': 'VXNlcjoxMTQ1MDc2MzE5ODUzNjU0MDE2'},\\n {'name': 'CK06361902', 'id': 'VXNlcjoxMjM4MjUxODQ1NTQzNTE0MTE0'},\\n {'name': 'moerchen198822', 'id': 'VXNlcjozMDIzMDcyMDI3'},\\n {'name': 'innuzenz', 'id': 'VXNlcjoxMTkyNzUyNTk2ODUyOTEyMTI5'},\\n {'name': 'LauseBleibt', 'id': 'VXNlcjo4MTE2NDI5MjkzNTc5ODM3NDY='},\\n {'name': 'karsten_franck', 'id': 'VXNlcjo3NjY2NzI0NjA0NjA3NDQ3MDQ='},\\n {'name': 'Eulalia59534370', 'id': 'VXNlcjo4MjUzOTE4MjYwMzkzNTc0NDA='},\\n {'name': 'gastroplus', 'id': 'VXNlcjozMTM4MzM1MQ=='},\\n {'name': 'Jens7berlin', 'id': 'VXNlcjoxMzQ0MDQyMTY4'},\\n {'name': 'jensun_', 'id': 'VXNlcjoxMTMzMzgxMDI5NzgyMjYxNzYy'},\\n {'name': 'Charlot91892611', 'id': 'VXNlcjoxMTQ0NTU1MTM5OTU4ODEyNjc4'},\\n {'name': 'EvelynBodenmei1', 'id': 'VXNlcjoxMDM5ODcwNDIzMTE3Mjk5NzEy'},\\n {'name': 'ETraubo', 'id': 'VXNlcjoxMTk3MDM3NzczNzU0MTgzNjgx'},\\n {'name': 'CarolinaMTrucco', 'id': 'VXNlcjoyNDMwNDEyOTMy'},\\n {'name': 'kuschest', 'id': 'VXNlcjo0MjM0NjM0ODM1'},\\n {'name': 'saKk63633609', 'id': 'VXNlcjoxMjcwNzg1ODE1MDgyNDE0MDg2'}]\"\n",
    "     },\n",
    "     \"metadata\": {},\n",
    "     \"execution_count\": 98\n",
    "    }\n",
    "   ],\n",
    "   \"source\": [\n",
    "    \"followers_list\"\n",
    "   ]\n",
    "  }\n",
    " ]\n",
    "}\n"
   ]
  }
 ],
 "metadata": {
  "kernelspec": {
   "display_name": "Python 3",
   "language": "python",
   "name": "python3"
  }
 },
 "nbformat": 4,
 "nbformat_minor": 4
}
