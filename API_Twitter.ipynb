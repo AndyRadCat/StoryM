{
 "cells": [
  {
   "cell_type": "code",
   "execution_count": 19,
   "metadata": {},
   "outputs": [],
   "source": [
    "import tweepy  \n",
    "import time\n",
    "import json\n",
    "import requests as req\n",
    "from bs4 import BeautifulSoup\n",
    "from pandas.io.json import json_normalize\n"
   ]
  },
  {
   "cell_type": "markdown",
   "metadata": {},
   "source": [
    "access_token = 'lsYhMrt7tNwdLDG9Udx9RMbgj'\n",
    "access_token_s = 'cuT6MIwmeu0x8hx7JYc1xKOATujW8oc6krvdQH6mDKHg8mLTIF'\n",
    "bearer_token = 'AAAAAAAAAAAAAAAAAAAAAPFBGgEAAAAAg9mt%2FLGAQUpguCYviaLl9YM%2Bf0o%3DF73kzIqGQR9fsedcmYXghld9TdBKYPfEWvTmFVr378alnEZTKP'\n",
    "user = 'AndyRad_App'\n",
    "url= 'https://api.twitter.com/1.1/users/show.json'\n",
    "auth=(user, access_token_s)"
   ]
  },
  {
   "cell_type": "code",
   "execution_count": 15,
   "metadata": {},
   "outputs": [],
   "source": [
    "header = {\"Host\":\"api.twitter.com\",\n",
    "         \"Accept\": \"*/*\",\n",
    "         \"Accept-Language\": \"en-US;q=0.7,es-MX;q=0.3\",\n",
    "         \"Bearer AAAAAAAAAAAAAAAAAAAAAPFBGgEAAAAAg9mt%2FLGAQUpguCYviaLl9YM%2Bf0o%3DF73kzIqGQR9fsedcmYXghld9TdBKYPfEWvTmFVr378alnEZTKP\",\n",
    "         }\n",
    "            "
   ]
  },
  {
   "cell_type": "code",
   "execution_count": null,
   "metadata": {},
   "outputs": [],
   "source": []
  },
  {
   "cell_type": "code",
   "execution_count": null,
   "metadata": {},
   "outputs": [],
   "source": []
  },
  {
   "cell_type": "code",
   "execution_count": null,
   "metadata": {},
   "outputs": [],
   "source": []
  }
 ],
 "metadata": {
  "kernelspec": {
   "display_name": "Python 3",
   "language": "python",
   "name": "python3"
  },
  "language_info": {
   "codemirror_mode": {
    "name": "ipython",
    "version": 3
   },
   "file_extension": ".py",
   "mimetype": "text/x-python",
   "name": "python",
   "nbconvert_exporter": "python",
   "pygments_lexer": "ipython3",
   "version": "3.8.3"
  }
 },
 "nbformat": 4,
 "nbformat_minor": 4
}
